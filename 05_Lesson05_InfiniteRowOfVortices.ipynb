

<!DOCTYPE html>
<html lang="en">
  <head>
    <meta charset="utf-8">
    <title></title>

    <meta name="viewport" content="width=device-width, initial-scale=1.0">

    
    <meta name="description" content="">
    

    
    <meta name="author" content="">
    

    <!--NEW RELIC Start Perf Measurement-->
    
    <!--NREND-->

    <!-- Le styles -->
    <!--<link href="/static/css/bootstrap.css" rel="stylesheet">-->
    <link href="/static/css/docs.css" rel="stylesheet">
    <link href="/static/css/bootstrap.min.css" rel="stylesheet">
    <link href="/static/css/bootstrap-responsive.css" rel="stylesheet">
    <link href="/static/components/animate.css/animate.css" rel="stylesheet">
    <link href="/static/components/Font-Awesome/css/font-awesome.min.css" rel="stylesheet">
    <style>
        // get fixed navbar on mobiles
        @media (max-width: 767px) /* @grid-float-breakpoint -1 */
        {
            .navbar-fixed-top
            {
            position: fixed;
            top: 0;
            margin-left:0;
            margin-right:0;
            }
        }

        .menu-icon{
            line-height: 8px;
            margin-right: 5px;
            position:relative;
            top:5px;
        }
        
        @media (min-width: 980px){
            .menu-text{
                display:none
            }
        }

    </style>


    <!-- Le HTML5 shim, for IE6-8 support of HTML5 elements -->
    <!--[if lt IE 9]>
      <script src="http://html5shim.googlecode.com/svn/trunk/html5.js"></script>
    <![endif]-->

    <!-- Le fav and touch icons -->
    <link rel="shortcut icon" href="/static/ico/ipynb_icon_16x16.png">
    <link rel="apple-touch-icon-precomposed" sizes="144x144" href="/static/ico/apple-touch-icon-144-precomposed.png">
    <link rel="apple-touch-icon-precomposed" sizes="114x114" href="/static/ico/apple-touch-icon-114-precomposed.png">
    <link rel="apple-touch-icon-precomposed" sizes="72x72" href="/static/ico/apple-touch-icon-72-precomposed.png">
    <link rel="apple-touch-icon-precomposed" href="/static/ico/apple-touch-icon-57-precomposed.png">
    
    
    

    

    
    <meta name="twitter:card" content="summary">

    
    <meta name="twitter:title" content="Notebook on nbviewer">
    

    
    <meta name="twitter:description" content="Check out this IPython notebook!">
    

    
    <meta name="twitter:domain" content="nbviewer.ipython.org">
    

    <meta name="twitter:image:src" content="http://ipython.org/ipython-doc/dev/_images/ipynb_icon_128x128.png">
    
    
    

    <link href="/static/ipython.min.css" rel="stylesheet">
    <link href="/static/css/pygments.css" rel="stylesheet">
    <style type="text/css" media='screen and (min-width:980px)'>
   
    body{
        padding-top:50px;
    }

    </style>
    <style type="text/css" >
    .imgwrap {
        text-align: center;
    }
    .input_area{
        padding: 0.4em;
    }
    div.input_area > div.highlight > pre {
        margin: 0px;
        padding: 0px;
        border: none;
    }

    .highlight pre {
        background-color: transparent;
    }

    @media (max-width: 767px){

        div.input, div.output_area {
            -webkit-box-orient: vertical;
            -moz-box-orient: vertical;
            box-orient: vertical;
        }

        div.prompt {
            text-align:left;
        }

    }

    
    </style>
    
    <script src="https://c328740.ssl.cf1.rackcdn.com/mathjax/latest/MathJax.js?config=TeX-AMS_HTML"type="text/javascript">
    </script>
    <script type="text/javascript">
    init_mathjax = function() {
        if (window.MathJax) {
            // MathJax loaded
            MathJax.Hub.Config({
                tex2jax: {
                    inlineMath: [ ['$','$'], ["\\(","\\)"] ],
                    displayMath: [ ['$$','$$'], ["\\[","\\]"] ]
                },
                displayAlign: 'left', // Change this to 'center' to center equations.
                "HTML-CSS": {
                    styles: {'.MathJax_Display': {"margin": 0}}
                }
            });
            MathJax.Hub.Queue(["Typeset",MathJax.Hub]);
        }
    }
    init_mathjax();
    </script>
    
  </head>

  <body data-spy="scroll" data-target=".subnav" data-offset="50">


  <!-- Navbar
  ================================================== -->
    <div id='menubar' class="navbar navbar-fixed-top">
      <div class="navbar-inner">
        <div class="container">
          <button type="button" class="btn btn-navbar" data-toggle="collapse" data-target=".nav-collapse">
            <span class="icon-bar"></span>
            <span class="icon-bar"></span>
            <span class="icon-bar"></span>
          </button>
          <div class="nav-collapse collapse">
            <ul class="nav">

                <li>
        <a href="/" title="Home">
           
               <span class='fa fa-home fa-2x menu-icon'></span>
               <span class='menu-text'>Home</span>
           
       </a>
   </li>
                <li>
        <a href="/faq" title="FAQ">
           
               <span>FAQ</span>
           
       </a>
   </li>

              <li class="">
                <a href="http://www.ipython.org">IPython</a>
              </li>
              <li>
              <a href="http://jiffyclub.github.io/open-in-nbviewer/">Open-in-nbviewer</a>
              </li>
            </ul>
            <ul class="nav pull-right"> 
              
              
      
        <li>
        <a href="https://github.com/barbagroup/AeroPython/blob/master/lessons/05_Lesson05_InfiniteRowOfVortices.ipynb" title="Notebook Home">
           
               <span class='fa fa-github fa-2x menu-icon'></span>
               <span class='menu-text'>Notebook Home</span>
           
       </a>
   </li>
      
        <li>
        <a href="https://raw.github.com/barbagroup/AeroPython/master/lessons/05_Lesson05_InfiniteRowOfVortices.ipynb" title="Download Notebook">
           
               <span class='fa fa-download fa-2x menu-icon'></span>
               <span class='menu-text'>Download Notebook</span>
           
       </a>
   </li>
    
            </ul>
          </div>
        </div>
      </div>
    </div>
    <div class="container">


    
Text and code provided under a Creative Commons Attribution license, CC-BY. (c) Lorena A. Barba, Olivier Mesnard, 2014. Thanks: NSF for support via CAREER award #1149784.

<div class="text_cell_render border-box-sizing rendered_html">
<p><a href="https://twitter.com/LorenaABarba">@LorenaABarba</a></p>
</div>
<div class="text_cell_render border-box-sizing rendered_html">
<h5 id="Version-0.1----February-2014">Version 0.1 -- February 2014<a class="anchor-link" href="#Version-0.1----February-2014">&#182;</a></h5>
</div>

<div class="text_cell_render border-box-sizing rendered_html">
<h1 id="Infinite-row-of-vortices">Infinite row of vortices<a class="anchor-link" href="#Infinite-row-of-vortices">&#182;</a></h1>
</div>

<div class="text_cell_render border-box-sizing rendered_html">
<p>This time, you'll be on your own creating the code for this flow!</p>
<p>The objective of this assignement is to visualize the streamlines induced by an infinite row of vortices. Because the computer does not enable the passage to the limit of an infinite number, we first consider the case of a finite number of vortices.</p>
<p>However, it is possible to derive an analytical expression for the infinite case.</p>
<p>Are the streamlines different from one case to the other?</p>
<p>In this notebook, their is no Python code... not yet! Your job is to read the theory, to think how you could implement it in an efficient manner and finally to code it and visualize the results.</p>
</div>
<div class="text_cell_render border-box-sizing rendered_html">
<h2 id="Vortex-flow-(from-previous-lesson)">Vortex flow (from previous lesson)<a class="anchor-link" href="#Vortex-flow-(from-previous-lesson)">&#182;</a></h2>
</div>

<div class="text_cell_render border-box-sizing rendered_html">
<p>As seen in a previous lesson, a vortex of strength <span class="math">\(\Gamma\)</span> has a stream-function</p>
<p><span class="math">\[\psi\left(r,\theta\right) = \frac{\Gamma}{2\pi}\ln r\]</span></p>
<p>and a velocity potential</p>
<p><span class="math">\[\phi\left(r,\theta\right) = -\frac{\Gamma}{2\pi}\theta\]</span></p>
<p>From this we can derive the velocity components in a polar coordinate system</p>
<p><span class="math">\[u_r\left(r,\theta\right) = 0\]</span></p>
<p><span class="math">\[u_\theta\left(r,\theta\right) = -\frac{\Gamma}{2\pi r}\]</span></p>
</div>
<div class="text_cell_render border-box-sizing rendered_html">
<p>In a Cartesian system, the velocity components at <span class="math">\(\left(x,y\right)\)</span> induced by a vortex, of strength <span class="math">\(\Gamma\)</span> located at <span class="math">\(\left(x_\text{vortex},y_\text{vortex}\right)\)</span>, are given by</p>
<p><span class="math">\[u\left(x,y\right) = +\frac{\Gamma}{2\pi}\frac{y-y_\text{vortex}}{(x-x_\text{vortex})^2+(y-y_\text{vortex})^2}\]</span></p>
<p><span class="math">\[v\left(x,y\right) = -\frac{\Gamma}{2\pi}\frac{x-x_\text{vortex}}{(x-x_\text{vortex})^2+(y-y_\text{vortex})^2}\]</span></p>
<p>and the stream-function is</p>
<p><span class="math">\[\psi\left(x,y\right) = \frac{\Gamma}{4\pi}\ln\left((x-x_\text{vortex})^2+(y-y_\text{vortex})^2\right)\]</span></p>
</div>
<div class="text_cell_render border-box-sizing rendered_html">
<h2 id="Adding-many-vortices">Adding many vortices<a class="anchor-link" href="#Adding-many-vortices">&#182;</a></h2>
</div>

<div class="text_cell_render border-box-sizing rendered_html">
<p>In this assignement, we consider a useful example to illustrate the concept of a <em>vortex sheet</em>: an infinite row of vortices of equal strength <span class="math">\(\Gamma\)</span> (same sign and magnitude) evenly spaced by a distance <span class="math">\(a\)</span>. But let's start with a finite row of vortices first.</p>
<p>The stream-function <span class="math">\(\psi_i\)</span> of the <span class="math">\(i^{th}\)</span> vortex at a distance <span class="math">\(r_i\)</span> is given by:</p>
<p><span class="math">\[\psi_i = \frac{\Gamma}{2\pi}\ln r_i\]</span></p>
<p>Applying the principle of superposition, the stream-function of <span class="math">\(N\)</span> vortices is, then</p>
<p><span class="math">\[\psi = \frac{\Gamma}{2\pi} \sum_{i=1}^N \ln r_i\]</span></p>
<p>And the velocity field (in Cartesian coordinates) of the row of vortices is</p>
<p><span class="math">\[u\left(x,y\right) = + \frac{\Gamma}{2\pi} \sum_{i=1}^N \frac{y-y_i}{(x-x_i)^2+(y-y_i)^2}\]</span></p>
<p><span class="math">\[v\left(x,y\right) = - \frac{\Gamma}{2\pi} \sum_{i=1}^N \frac{x-x_i}{(x-x_i)^2+(y-y_i)^2}\]</span></p>
<p>where <span class="math">\(\left(x_i,y_i\right)\)</span> are the Cartesian coordinates of the <span class="math">\(i^{\text{th}}\)</span> vortex.</p>
<p>(In the next section, we'll show you how to derive a closed-form expression for the <em>infinite</em> sum of vortices. But hang on.)</p>
</div>
<div class="cell border-box-sizing code_cell vbox">
<div class="input hbox">
<div class="prompt input_prompt">
In&nbsp;[1]:
</div>
<div class="input_area box-flex1">
<div class="highlight"><pre><span class="kn">from</span> <span class="nn">IPython.display</span> <span class="kn">import</span> <span class="n">Image</span>
<span class="n">Image</span><span class="p">(</span><span class="n">filename</span><span class="o">=</span><span class="s">&#39;../resources/infiniteRowVorticesSketch.png&#39;</span><span class="p">)</span>
</pre></div>

</div>
</div>

<div class="vbox output_wrapper">
<div class="output vbox">


<div class="hbox output_area"><div class="prompt output_prompt">
    Out[1]:</div>
<div class="box-flex1 output_subarea output_pyout">


<img src="data:image/png;base64,iVBORw0KGgoAAAANSUhEUgAAAzkAAAHwCAIAAAAKCDYbAAAYHWlDQ1BJQ0MgUHJvZmlsZQAAWAmt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">

</div>
</div>

</div>
</div>

</div>
<div class="text_cell_render border-box-sizing rendered_html">
<hr />
</div>
<div class="text_cell_render border-box-sizing rendered_html">
<h5 id="task">Task:</h5>
<h4 id="compute-the-velocity-field-and-plot-the-streamlines-of-a-row-of-vortices">Compute the velocity field and plot the streamlines of a row of vortices</h4>
</div>
<div class="text_cell_render border-box-sizing rendered_html">
<p>You will place a <span class="math">\(N\)</span> vortices aligned on the horizontal axis and visualize the flow pattern created. Do the following:</p>
<ul>
<li><p>Using the equations derived above, compute the velocity components of each vortex on a mesh grid.</p></li>
<li><p>Remember that a finite number of vortices can be represented by a <em>list</em> or a NumPy <em>array</em>. Think and decide which one to use.</p></li>
<li><p>Define functions to avoid code repetition (and why not classes, if you prefer and are familiar with the concept).</p></li>
<li><p>Once you have all the velocities, apply the principle of superposition and plot the resulting flow pattern.</p></li>
<li><p>Play around with the size of your vortex row and the plotting range. Make your plot of publishable quality!</p></li>
</ul>
<p>In the end you should get something similar to this:</p>
</div>
<div class="cell border-box-sizing code_cell vbox">
<div class="input hbox">
<div class="prompt input_prompt">
In&nbsp;[2]:
</div>
<div class="input_area box-flex1">
<div class="highlight"><pre><span class="kn">from</span> <span class="nn">IPython.display</span> <span class="kn">import</span> <span class="n">Image</span>
<span class="n">Image</span><span class="p">(</span><span class="n">filename</span><span class="o">=</span><span class="s">&#39;../resources/infiniteRowVortices.png&#39;</span><span class="p">)</span>
</pre></div>

</div>
</div>

<div class="vbox output_wrapper">
<div class="output vbox">


<div class="hbox output_area"><div class="prompt output_prompt">
    Out[2]:</div>
<div class="box-flex1 output_subarea output_pyout">


<img src="data:image/png;base64,iVBORw0KGgoAAAANSUhEUgAAA2AAAADYCAYAAACN44AhAAAABHNCSVQICAgIfAhkiAAAAAlwSFlz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">

</div>
</div>

</div>
</div>

</div>
<div class="text_cell_render border-box-sizing rendered_html">
<hr />
</div>
<div class="text_cell_render border-box-sizing rendered_html">
<h2 id="Infinite-row-of-vortices">Infinite row of vortices<a class="anchor-link" href="#Infinite-row-of-vortices">&#182;</a></h2>
</div>

<div class="text_cell_render border-box-sizing rendered_html">
<p>This will be a fun mathematical exercise! Follow along, and take your own notes.</p>
<p>To derive the closed-form functions, we use the complex representation:</p>
<p><span class="math">\[z = x + jy\]</span></p>
<p>where <span class="math">\(j^2=-1\)</span>. (We don't use <span class="math">\(i\)</span> to not confuse it with our indices!)</p>
<p>The complex potential is defined as <span class="math">\(w = \phi + j\psi\)</span>, where <span class="math">\(\phi\)</span> is the potential velocity and <span class="math">\(\psi\)</span> is the stream-function. If we differentiate the complex potential <span class="math">\(w\)</span> with respect to the complex variable <span class="math">\(z\)</span>, we get the complex velocity</p>
<p><span class="math">\[\frac{dw}{dz} = u-jv\]</span></p>
<p>where <span class="math">\(u\)</span> and <span class="math">\(v\)</span> are the Cartesian velocity components.</p>
<p>The complex potential representing a vortex of strength <span class="math">\(\Gamma\)</span> located at the origin is</p>
<p><span class="math">\[w = \frac{j\Gamma}{2\pi}\ln z\]</span></p>
<p>Why?</p>
<p>Because <span class="math">\(z=re^{j\theta}\)</span> and <span class="math">\(w\)</span> becomes</p>
<p><span class="math">\[w = -\frac{\Gamma}{2\pi}\theta + j\frac{\Gamma}{2\pi}\ln r = \phi + j\psi\]</span></p>
<p>Consider a second vortex located at <span class="math">\(\left(a,0\right)\)</span> with the same strength <span class="math">\(\Gamma\)</span>. Its complex potential is given by</p>
<p><span class="math">\[w = \frac{j\Gamma}{2\pi}\ln \left(z-a\right)\]</span></p>
<p>A additional vortex located <span class="math">\(a\)</span> further will have a complex potential of the form</p>
<p><span class="math">\[w = \frac{j\Gamma}{2\pi}\ln \left(z-2a\right)\]</span></p>
<p>and so on...</p>
<p>Therefore, the complex potential representing an inifinite row of vortices (on the line <span class="math">\(y=0\)</span>) is given by</p>
<p><span class="math">\[w = \frac{j\Gamma}{2\pi}\sum_{m=-\infty}^{+\infty} \ln \left( z-ma \right)\]</span></p>
<p>When we integrate the velocity components, in the previous notebooks, to find the stream-function and the potential, we dropped the constant of integration. Here, we decide to add a constant (not a random one!). Why not, since the differentiation will give the same results.</p>
<p><span class="math">\[w = \frac{j\Gamma}{2\pi}\sum_{m=-\infty}^{+\infty} \ln \left( z-ma \right) + \text{constant}\]</span></p>
<p>where</p>
<p><span class="math">\[\text{constant} = -\frac{j\Gamma}{2\pi} \sum_{m=-\infty, m\neq 0}^{+\infty} \ln \left( -ma \right)\]</span></p>
<p>so that, the complex potential can be cast in the following form</p>
<p><span class="math">\[w = \frac{j\Gamma}{2\pi}\sum_{m=-\infty,m\neq 0}^{+\infty} \ln \left( \frac{z-ma}{-ma} \right) + \frac{j\Gamma}{2\pi}\ln z\]</span></p>
<p>Now, it is time do some mathematics...</p>
<p><span class="math">\[w = \frac{j\Gamma}{2\pi}\sum_{m=-\infty,m\neq 0}^{+\infty} \ln \left( 1-\frac{z}{ma} \right) + \frac{j\Gamma}{2\pi}\ln z\]</span></p>
<p><span class="math">\[w = \frac{j\Gamma}{2\pi}\sum_{m=1}^{+\infty} \left\lbrace \ln\left(1-\frac{z}{ma}\right) + \ln\left(1+\frac{z}{ma}\right) \right\rbrace + \frac{j\Gamma}{2\pi}\ln z\]</span></p>
<p><span class="math">\[w = \frac{j\Gamma}{2\pi}\sum_{m=1}^{+\infty} \ln\left(1-\frac{z^2}{m^2a^2}\right) + \frac{j\Gamma}{2\pi}\ln z\]</span></p>
<p><span class="math">\[w = \frac{j\Gamma}{2\pi} \ln\left(\prod_{m=1}^{+\infty}\left(1-\frac{z^2}{m^2a^2}\right)\right) + \frac{j\Gamma}{2\pi}\ln z\]</span></p>
<p><span class="math">\[w = \frac{j\Gamma}{2\pi} \ln\left(z\prod_{m=1}^{+\infty}\left(1-\frac{z^2}{m^2a^2}\right)\right)\]</span></p>
<p><span class="math">\[w = \frac{j\Gamma}{2\pi} \ln\left(z\prod_{m=1}^{+\infty}\left(1-\frac{\left(\frac{z\pi}{a}\right)^2}{m^2\pi^2}\right)\right)\]</span></p>
<p>The product is actually the formula for the sine and the complex potential becomes</p>
<p><span class="math">\[w = \frac{j\Gamma}{2\pi}\ln\left(\sin\left(\frac{z\pi}{a}\right)\right)\]</span></p>
<p>We derive the complex potential with respect to the complex variable to get the complex velocity</p>
<p><span class="math">\[\frac{dw}{dz} = u-iv = \frac{j\Gamma}{2a}\cot\left(\frac{z\pi}{a}\right)\]</span></p>
<p><span class="math">\[u-jv = \frac{j\Gamma}{2a}\frac{\cos\left(\frac{\pi x}{a}+j\frac{\pi y}{a}\right)}{\sin\left(\frac{\pi x}{a}+j\frac{\pi y}{a}\right)}\]</span></p>
<p>Applying trigonometric identities, we find the following expression</p>
<p><span class="math">\[u-jv = \frac{j\Gamma}{2a}\frac{\cos\left(\frac{\pi x}{a}\right)\cosh\left(\frac{\pi y}{a}\right) - j\sin\left(\frac{\pi x}{a}\right)\sinh\left(\frac{\pi y}{a}\right)}{\sin\left(\frac{\pi x}{a}\right)\cosh\left(\frac{\pi y}{a}\right) + j\cos\left(\frac{\pi x}{a}\right)\sinh\left(\frac{\pi y}{a}\right)}\]</span></p>
<p>which can be cast in the form (try it!)</p>
<p><span class="math">\[u-jv = \frac{\Gamma}{2a}\frac{\sinh\left(\frac{2\pi y}{a}\right)}{\cosh\left(\frac{2\pi y}{a}\right) - \cos\left(\frac{2\pi x}{a}\right)} + j \frac{\Gamma}{2a}\frac{\sin\left(\frac{2\pi x}{a}\right)}{\cosh\left(\frac{2\pi y}{a}\right) - \cos\left(\frac{2\pi x}{a}\right)}\]</span></p>
<p>Therefore, the Cartesian velocity components of an infinite row of vortices are given by</p>
<p><span class="math">\[u\left(x,y\right) = +\frac{\Gamma}{2a}\frac{\sinh\left(\frac{2\pi y}{a}\right)}{\cosh\left(\frac{2\pi y}{a}\right)-\cos\left(\frac{2\pi x}{a}\right)}\]</span></p>
<p><span class="math">\[v\left(x,y\right) = -\frac{\Gamma}{2a}\frac{\sin\left(\frac{2\pi x}{a}\right)}{\cosh\left(\frac{2\pi y}{a}\right)-\cos\left(\frac{2\pi x}{a}\right)}\]</span></p>
</div>
<div class="text_cell_render border-box-sizing rendered_html">
<hr />
</div>
<div class="text_cell_render border-box-sizing rendered_html">
<h5 id="task">Task:</h5>
<h4 id="compute-the-velocity-field-and-plot-the-streamlines-of-an-infinite-row-of-vortices">Compute the velocity field and plot the streamlines of an <em>infinite</em> row of vortices</h4>
</div>
<div class="text_cell_render border-box-sizing rendered_html">
<p>Now that we have derived the functions for the velocity components, implement them in a code cell and plot the streamlines.</p>
<p>Can you see any difference with the previous task where the number of vortices was finite?</p>
</div>
<div class="text_cell_render border-box-sizing rendered_html">
<hr />
</div>
<div class="cell border-box-sizing code_cell vbox">
<div class="input hbox">
<div class="prompt input_prompt">
In&nbsp;[3]:
</div>
<div class="input_area box-flex1">
<div class="highlight"><pre><span class="kn">from</span> <span class="nn">IPython.core.display</span> <span class="kn">import</span> <span class="n">HTML</span>
<span class="k">def</span> <span class="nf">css_styling</span><span class="p">():</span>
    <span class="n">styles</span> <span class="o">=</span> <span class="nb">open</span><span class="p">(</span><span class="s">&#39;./styles/custom.css&#39;</span><span class="p">,</span> <span class="s">&#39;r&#39;</span><span class="p">)</span><span class="o">.</span><span class="n">read</span><span class="p">()</span>
    <span class="k">return</span> <span class="n">HTML</span><span class="p">(</span><span class="n">styles</span><span class="p">)</span>
<span class="n">css_styling</span><span class="p">()</span>
</pre></div>

</div>
</div>

<div class="vbox output_wrapper">
<div class="output vbox">


<div class="hbox output_area"><div class="prompt output_prompt">
    Out[3]:</div>
<div class="box-flex1 output_subarea output_pyout">

<div class="output_html rendered_html">
<link href='http://fonts.googleapis.com/css?family=Fenix' rel='stylesheet' type='text/css'>
<link href='http://fonts.googleapis.com/css?family=Alegreya+Sans:100,300,400,500,700,800,900,100italic,300italic,400italic,500italic,700italic,800italic,900italic' rel='stylesheet' type='text/css'>
<link href='http://fonts.googleapis.com/css?family=Source+Code+Pro:300,400' rel='stylesheet' type='text/css'>
<style>
    @font-face {
        font-family: "Computer Modern";
        src: url('http://mirrors.ctan.org/fonts/cm-unicode/fonts/otf/cmunss.otf');
    }
    div.cell{
        width:800px;
        margin-left:16% !important;
        margin-right:auto;
    }
    h1 {
        font-family: 'Alegreya Sans', sans-serif;
    }
    h2 {
        font-family: 'Fenix', serif;
    }
    h3{
		font-family: 'Fenix', serif;
        margin-top:12px;
        margin-bottom: 3px;
       }
	h4{
		font-family: 'Fenix', serif;
       }
    h5 {
        font-family: 'Alegreya Sans', sans-serif;
    }	   
    div.text_cell_render{
        font-family: 'Alegreya Sans',Computer Modern, "Helvetica Neue", Arial, Helvetica, Geneva, sans-serif;
        line-height: 135%;
        font-size: 120%;
        width:600px;
        margin-left:auto;
        margin-right:auto;
    }
    .CodeMirror{
            font-family: "Source Code Pro";
			font-size: 90%;
    }
/*    .prompt{
        display: None;
    }*/
    .text_cell_render h1 {
        font-weight: 200;
        font-size: 50pt;
		line-height: 100%;
        color:#CD2305;
        margin-bottom: 0.5em;
        margin-top: 0.5em;
        display: block;
    }	
    .text_cell_render h5 {
        font-weight: 300;
        font-size: 16pt;
        color: #CD2305;
        font-style: italic;
        margin-bottom: .5em;
        margin-top: 0.5em;
        display: block;
    }
    
    .warning{
        color: rgb( 240, 20, 20 )
        }  
</style>
<script>
    MathJax.Hub.Config({
                        TeX: {
                           extensions: ["AMSmath.js"]
                           },
                tex2jax: {
                    inlineMath: [ ['$','$'], ["\\(","\\)"] ],
                    displayMath: [ ['$$','$$'], ["\\[","\\]"] ]
                },
                displayAlign: 'center', // Change this to 'center' to center equations.
                "HTML-CSS": {
                    styles: {'.MathJax_Display': {"margin": 4}}
                }
        });
</script>

</div>

</div>
</div>

</div>
</div>

</div>


     <!-- Footer
     ================================================== -->
      <footer class="footer">
      <p class="pull-right"><a href="#">Back to top</a></p>
      <p>More info on <a href='http://ipython.org'> IPython website</a>.
      <a href="https://github.com/ipython/nbviewer">The code for this site</a> is licensed under <a href="https://github.com/ipython/nbviewer/blob/master/LICENSE.txt" target="_blank">BSD</a>.
      Built thanks to <a href="http://twitter.github.com/bootstrap/"> Twitter Bootstrap</a>
      </p>
      <p>This web site does not host notebooks, it only renders notebooks available on other websites.
      Thanks to all our <a href="https://github.com/ipython/nbviewer/contributors">contributors</a> and to <a href="http://www.rackspace.com">Rackspace</a> for hosting.</p>
      
      <p class="text-muted">
          nbviewer version:
          <a href="https://github.com/ipython/nbviewer/commit/a3aa8abe0b5aa305afb95c5ff5218464d3970aa6">a3aa8ab</a>
          (Fri, 24 Jan 2014 08:55:28 -0800)
      </p>
      
      </footer>
    </div><!-- /container -->



    <!-- Le javascript
    ================================================== -->
    <!-- Placed at the end of the document so the pages load faster -->

    <!--<script type="text/javascript" src="http://platform.twitter.com/widgets.js"></script>-->
    <script src="/static/js/jquery.min.js"></script>
    <!--<script src="/static/js/google-code-prettify/prettify.js"></script>-->
    <!--<script src="/static/js/bootstrap-transition.js"></script>-->
    <!--<script src="/static/js/bootstrap-alert.js"></script>-->
    <!--<script src="/static/js/bootstrap-modal.js"></script>-->
    <!--<script src="/static/js/bootstrap-dropdown.js"></script>-->
    <!--<script src="/static/js/bootstrap-scrollspy.js"></script>-->
    <!--<script src="/static/js/bootstrap-tab.js"></script>-->
    <!--<script src="/static/js/bootstrap-tooltip.js"></script>-->
    <!--<script src="/static/js/bootstrap-popover.js"></script>-->
    <!--<script src="/static/js/bootstrap-button.js"></script>-->
    <script src="/static/js/bootstrap-collapse.js"></script>
    <!--<script src="/static/js/bootstrap-carousel.js"></script>-->
    <!--<script src="/static/js/bootstrap-typeahead.js"></script>-->
    <!--<script src="/static/js/application.js"></script>-->
    <script src="/static/components/headroom.js/dist/headroom.min.js"></script>
    <script src="/static/components/headroom.js/dist/jQuery.headroom.min.js"></script>


    
    
    
    <script>
    $(document).ready(
                function(){
                    $("#menubar").headroom({
                        "tolerance": 5,
                        "offset": 205,
                        "classes": {
                            "initial": "animated",
                            "pinned": "slideInDown",
                            "unpinned": "slideOutUp"
                        }
                    })
                }
            );
    </script>



    <!-- Analytics
    ================================================== -->
    <script type="text/javascript">
      var _gaq = _gaq || [];
      _gaq.push(['_setAccount', 'UA-38683231-2']);
      _gaq.push(['_trackPageview']);

      (function() {
        var ga = document.createElement('script'); ga.type = 'text/javascript'; ga.async = true;
        ga.src = ('https:' == document.location.protocol ? 'https://ssl' : 'http://www') + '.google-analytics.com/ga.js';
        var s = document.getElementsByTagName('script')[0]; s.parentNode.insertBefore(ga, s);
      })();

    </script>
    <!--NEW RELIC Stop Perf Measurement-->
    
    <!--NEW RELIC End-->
  </body>
</html>