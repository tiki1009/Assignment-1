{
 "metadata": {
  "name": ""
 },
 "nbformat": 3,
 "nbformat_minor": 0,
 "worksheets": [
  {
   "cells": [
    {
     "cell_type": "code",
     "collapsed": false,
     "input": [
      "import numpy as np\n",
      "import matplotlib.pyplot as plt\n",
      "from math import*\n",
      "\n",
      "# Creat linear space\n",
      "N = 50\n",
      "xStart,xEnd = -5.0,5.0\n",
      "yStart,yEnd = -1.0,1.0\n",
      "aStart,aEnd = -10,10\n",
      "\n",
      "x = np.linspace(xStart,xEnd,N)\n",
      "y = np.linspace(yStart,yEnd,N)\n",
      "a = np.linspace(aStart,aEnd,N)\n",
      "X,Y = np.meshgrid(x,y)\n",
      "\n",
      "# Strength and location\n",
      "gamma = 5.0\n",
      "xVortex,yVortex = 0.0,0.0\n",
      "\n",
      "# function of computing the velocity components of a vortex\n",
      "def getVelocityVortex(strength,X,Y,a):\n",
      "    u = + strength/(2*a)\\\n",
      "    *np.sinh(2*pi*Y/a)/(np.cosh(2*pi*Y/a)-np.cos(2*pi*X/a))\n",
      "    v = - strength/(2*a)\\\n",
      "    *np.sin(2*pi*X/a)/(np.cosh(2*pi*Y/a)-np.cos(2*pi*X/a))\n",
      "    return u,v\n",
      "\n",
      "# Computing velocity components on the mesh grid\n",
      "uVortex,vVortex = getVelocityVortex(gamma,X,Y,a)\n",
      "\n",
      "# Plotting\n",
      "size = 10\n",
      "plt.figure(figsize=(size,(yEnd-yStart)/(xEnd-xStart)*size))\n",
      "plt.xlabel('x',fontsize = 16)\n",
      "plt.xlabel('y',fontsize = 16)\n",
      "plt.xlim(xStart,xEnd)\n",
      "plt.ylim(yStart,yEnd)\n",
      "plt.streamplot(X,Y,uVortex,vVortex,\\\n",
      "               density = 2.0, linewidth = 1,arrowsize = 1, arrowstyle ='->')\n",
      "#plt.scatter(x,y,c='red',s=80, marker = 'o')\n"
     ],
     "language": "python",
     "metadata": {},
     "outputs": [
      {
       "metadata": {},
       "output_type": "pyout",
       "prompt_number": 23,
       "text": [
        "<matplotlib.streamplot.StreamplotSet at 0x1162943d0>"
       ]
      },
      {
       "metadata": {},
       "output_type": "display_data",
       "png": "[encoded data removed]",
       "text": [
        "<matplotlib.figure.Figure at 0x110bcbb10>"
       ]
      }
     ],
     "prompt_number": 23
    }
   ],
   "metadata": {}
  }
 ]
}